{
 "cells": [
  {
   "cell_type": "code",
   "execution_count": 1,
   "metadata": {},
   "outputs": [],
   "source": [
    "import numpy as np\n",
    "from math import sqrt, log"
   ]
  },
  {
   "cell_type": "code",
   "execution_count": 2,
   "metadata": {},
   "outputs": [],
   "source": [
    "def hash(s, max_n_bit_hash_value=24):\n",
    "    max_value = 1 << max_n_bit_hash_value\n",
    "    l = len(s)\n",
    "    h = 0\n",
    "    for i in range(l):\n",
    "        h += s[i] ** (i+1)\n",
    "        h %= max_value\n",
    "    return h"
   ]
  },
  {
   "cell_type": "code",
   "execution_count": 16,
   "metadata": {},
   "outputs": [],
   "source": [
    "class HyperLogLog:\n",
    "    def __init__(self, b=10, max_n_bit_hash_value=24):\n",
    "        self.max_n_bit = max_n_bit_hash_value\n",
    "        self.b = b # Da cambiare in futuro\n",
    "        self.m = 2**b \n",
    "        self.M = np.full(self.m, 0)\n",
    "        self.a_m = 0.7213 / (1 + 1.079/self.m) # modificare se m<128\n",
    "        print(\"Error Filter:\", 1.04/sqrt(self.m), '%')\n",
    "    \n",
    "    def add(self, s):\n",
    "        x = hash(s, max_n_bit_hash_value=self.max_n_bit)\n",
    "        j = x >> (self.max_n_bit - self.b)\n",
    "        w = x & 2**(self.max_n_bit - self.b) - 1\n",
    "        self.M[j] = max(self.M[j], self.rho(w, max_length=self.max_n_bit - self.b))\n",
    "    \n",
    "    def rho(self, n, max_length):\n",
    "        p = len(bin(n)[2:]) # Most significant bit in n\n",
    "        return max_length - p + 1\n",
    "    \n",
    "    def card(self):\n",
    "        Z = 1/np.sum(2.**-self.M)\n",
    "        E = self.a_m * Z * self.m ** 2\n",
    "        if E < 5.*self.m/2.:\n",
    "            V = (self.M==0).sum()\n",
    "            if V==0:\n",
    "                return E\n",
    "            else:\n",
    "                return self.m*log(self.m*1./V)\n",
    "        return E"
   ]
  },
  {
   "cell_type": "code",
   "execution_count": 44,
   "metadata": {},
   "outputs": [
    {
     "name": "stdout",
     "output_type": "stream",
     "text": [
      "Error Filter: 0.01625 %\n"
     ]
    }
   ],
   "source": [
    "hll = HyperLogLog(12, 24)"
   ]
  },
  {
   "cell_type": "code",
   "execution_count": 45,
   "metadata": {},
   "outputs": [],
   "source": [
    "f = open('hash.txt', 'rb')"
   ]
  },
  {
   "cell_type": "code",
   "execution_count": 46,
   "metadata": {},
   "outputs": [],
   "source": [
    "i=0\n",
    "for line in f:\n",
    "    line = line[:-1]\n",
    "    hll.add(line)\n",
    "    if i>10000000:\n",
    "        break\n",
    "    i += 1"
   ]
  },
  {
   "cell_type": "code",
   "execution_count": 47,
   "metadata": {},
   "outputs": [],
   "source": [
    "f.close()"
   ]
  },
  {
   "cell_type": "code",
   "execution_count": 48,
   "metadata": {},
   "outputs": [
    {
     "data": {
      "text/plain": [
       "7949038.272616256"
      ]
     },
     "execution_count": 48,
     "metadata": {},
     "output_type": "execute_result"
    }
   ],
   "source": [
    "hll.card()"
   ]
  },
  {
   "cell_type": "code",
   "execution_count": 38,
   "metadata": {},
   "outputs": [],
   "source": [
    "hll = None"
   ]
  },
  {
   "cell_type": "code",
   "execution_count": 142,
   "metadata": {},
   "outputs": [
    {
     "data": {
      "text/plain": [
       "23961600"
      ]
     },
     "execution_count": 142,
     "metadata": {},
     "output_type": "execute_result"
    }
   ],
   "source": [
    "i"
   ]
  },
  {
   "cell_type": "markdown",
   "metadata": {},
   "source": [
    "* 12-24 -> 4636443"
   ]
  },
  {
   "cell_type": "code",
   "execution_count": 15,
   "metadata": {},
   "outputs": [
    {
     "data": {
      "text/plain": [
       "255"
      ]
     },
     "execution_count": 15,
     "metadata": {},
     "output_type": "execute_result"
    }
   ],
   "source": [
    "((1<<16)-1) >> 8"
   ]
  },
  {
   "cell_type": "code",
   "execution_count": 32,
   "metadata": {},
   "outputs": [
    {
     "data": {
      "text/plain": [
       "16777216"
      ]
     },
     "execution_count": 32,
     "metadata": {},
     "output_type": "execute_result"
    }
   ],
   "source": [
    "1<<24"
   ]
  },
  {
   "cell_type": "code",
   "execution_count": null,
   "metadata": {},
   "outputs": [],
   "source": []
  }
 ],
 "metadata": {
  "kernelspec": {
   "display_name": "Python 3",
   "language": "python",
   "name": "python3"
  },
  "language_info": {
   "codemirror_mode": {
    "name": "ipython",
    "version": 3
   },
   "file_extension": ".py",
   "mimetype": "text/x-python",
   "name": "python",
   "nbconvert_exporter": "python",
   "pygments_lexer": "ipython3",
   "version": "3.7.7"
  }
 },
 "nbformat": 4,
 "nbformat_minor": 4
}
