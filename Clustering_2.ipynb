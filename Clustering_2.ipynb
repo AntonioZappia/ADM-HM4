{
 "cells": [
  {
   "cell_type": "markdown",
   "metadata": {},
   "source": [
    "Roadmap:\n",
    "- eseguire il cluster vero e proprio con k=20-25\n",
    "- eseguire il cluster nuovamente tramite sklearn ed identificare eventuali differenza\n",
    "- fare la join con il dateset iniziale\n",
    "- rispondere alle domande aggiuntive\n"
   ]
  },
  {
   "cell_type": "code",
   "execution_count": 120,
   "metadata": {},
   "outputs": [],
   "source": [
    "import pandas as pd\n",
    "import numpy as np\n",
    "import scipy\n",
    "\n",
    "from tqdm import tqdm\n",
    "\n",
    "import nltk\n",
    "from nltk.corpus import stopwords\n",
    "from nltk.stem.wordnet import WordNetLemmatizer\n",
    "from nltk.tokenize import word_tokenize\n",
    "from nltk import pos_tag\n",
    "\n",
    "from sklearn.feature_extraction.text import TfidfVectorizer\n",
    "from sklearn.decomposition import TruncatedSVD\n",
    "from sklearn.cluster import k_means\n",
    "from sklearn.cluster import KMeans as SK_KMeans\n",
    "\n",
    "import matplotlib.pyplot as plt\n",
    "import seaborn as sns"
   ]
  },
  {
   "cell_type": "markdown",
   "metadata": {},
   "source": [
    "# Preprocessing"
   ]
  },
  {
   "cell_type": "code",
   "execution_count": 2,
   "metadata": {},
   "outputs": [],
   "source": [
    "#..."
   ]
  },
  {
   "cell_type": "code",
   "execution_count": 2,
   "metadata": {},
   "outputs": [],
   "source": [
    "df = pd.read_csv(\"./data/CleanDatabase.csv\")"
   ]
  },
  {
   "cell_type": "code",
   "execution_count": 3,
   "metadata": {},
   "outputs": [],
   "source": [
    "df = df.groupby('ProductId', as_index = False).agg({'Text': ' '.join})"
   ]
  },
  {
   "cell_type": "code",
   "execution_count": 4,
   "metadata": {},
   "outputs": [
    {
     "data": {
      "text/html": [
       "<div>\n",
       "<style scoped>\n",
       "    .dataframe tbody tr th:only-of-type {\n",
       "        vertical-align: middle;\n",
       "    }\n",
       "\n",
       "    .dataframe tbody tr th {\n",
       "        vertical-align: top;\n",
       "    }\n",
       "\n",
       "    .dataframe thead th {\n",
       "        text-align: right;\n",
       "    }\n",
       "</style>\n",
       "<table border=\"1\" class=\"dataframe\">\n",
       "  <thead>\n",
       "    <tr style=\"text-align: right;\">\n",
       "      <th></th>\n",
       "      <th>ProductId</th>\n",
       "      <th>Text</th>\n",
       "    </tr>\n",
       "  </thead>\n",
       "  <tbody>\n",
       "    <tr>\n",
       "      <th>0</th>\n",
       "      <td>0006641040</td>\n",
       "      <td>days person say chicken soup probably go follo...</td>\n",
       "    </tr>\n",
       "    <tr>\n",
       "      <th>1</th>\n",
       "      <td>141278509X</td>\n",
       "      <td>product archer farm best drink mix ever mix fl...</td>\n",
       "    </tr>\n",
       "    <tr>\n",
       "      <th>2</th>\n",
       "      <td>2734888454</td>\n",
       "      <td>dog love chicken product china wont buy anymor...</td>\n",
       "    </tr>\n",
       "    <tr>\n",
       "      <th>3</th>\n",
       "      <td>2841233731</td>\n",
       "      <td>book easy read ingredients available store rec...</td>\n",
       "    </tr>\n",
       "    <tr>\n",
       "      <th>4</th>\n",
       "      <td>7310172001</td>\n",
       "      <td>product health snack pup make beef liver puppy...</td>\n",
       "    </tr>\n",
       "  </tbody>\n",
       "</table>\n",
       "</div>"
      ],
      "text/plain": [
       "    ProductId                                               Text\n",
       "0  0006641040  days person say chicken soup probably go follo...\n",
       "1  141278509X  product archer farm best drink mix ever mix fl...\n",
       "2  2734888454  dog love chicken product china wont buy anymor...\n",
       "3  2841233731  book easy read ingredients available store rec...\n",
       "4  7310172001  product health snack pup make beef liver puppy..."
      ]
     },
     "execution_count": 4,
     "metadata": {},
     "output_type": "execute_result"
    }
   ],
   "source": [
    "df.head()"
   ]
  },
  {
   "cell_type": "markdown",
   "metadata": {},
   "source": [
    "# Tf-Idf Vectorizer"
   ]
  },
  {
   "cell_type": "code",
   "execution_count": 5,
   "metadata": {},
   "outputs": [],
   "source": [
    "tf_idf = TfidfVectorizer(max_features=30000, stop_words='english', use_idf=True).fit_transform(df[\"Text\"])"
   ]
  },
  {
   "cell_type": "code",
   "execution_count": 6,
   "metadata": {},
   "outputs": [
    {
     "data": {
      "text/plain": [
       "2.4718108140800035"
      ]
     },
     "execution_count": 6,
     "metadata": {},
     "output_type": "execute_result"
    }
   ],
   "source": [
    "var_tfidf = 0\n",
    "for i in range(tf_idf.shape[0]):\n",
    "    var_tfidf += np.var(tf_idf[i].todense())\n",
    "var_tfidf"
   ]
  },
  {
   "cell_type": "markdown",
   "metadata": {},
   "source": [
    "# TruncatedSVD"
   ]
  },
  {
   "cell_type": "code",
   "execution_count": 36,
   "metadata": {},
   "outputs": [],
   "source": [
    "def best_compenents(tf_idf, n_components_initial, n_components_final, goal):\n",
    "    variance_init = 0\n",
    "    k = n_components_initial\n",
    "    max_k = np.INF\n",
    "    \n",
    "    while n_components_initial <= k < n_components_final:\n",
    "        svd = TruncatedSVD(n_components=k)\n",
    "        svd.fit(tf_idf)\n",
    "        \n",
    "        variance = float(np.sum(svd.explained_variance_ratio_)*100)\n",
    "        print(variance, k)\n",
    "        \n",
    "        if goal < variance < goal + 1:\n",
    "            break\n",
    "            \n",
    "        if variance < goal:\n",
    "            if k*2 > max_k:\n",
    "                k += max_k\n",
    "                k = k >> 1\n",
    "            else:\n",
    "                k *= 2\n",
    "        else:\n",
    "            k = k >> 2\n",
    "            k *= 3 \n",
    "            \n",
    "    return k"
   ]
  },
  {
   "cell_type": "code",
   "execution_count": 7,
   "metadata": {},
   "outputs": [],
   "source": [
    "n_best_components = 950 # best_compenents(tf_idf, 100, 10000, 60)\n",
    "svd = TruncatedSVD(n_components=n_best_components)\n",
    "X = svd.fit_transform(tf_idf)"
   ]
  },
  {
   "cell_type": "code",
   "execution_count": 9,
   "metadata": {},
   "outputs": [
    {
     "data": {
      "text/plain": [
       "((74258, 950),\n",
       " array([[ 1.94887531e-01, -5.87168357e-02, -1.90294924e-02, ...,\n",
       "          1.40779586e-02,  3.25757421e-02, -5.86725016e-03],\n",
       "        [ 1.48120329e-01, -1.05293931e-02, -6.57476472e-06, ...,\n",
       "          9.17394958e-03,  7.35322890e-03, -3.04100942e-04],\n",
       "        [ 1.51334423e-01, -1.09013685e-01, -1.33395812e-01, ...,\n",
       "         -1.61290657e-02,  1.00792057e-02, -1.72006200e-02],\n",
       "        ...,\n",
       "        [ 4.43693016e-02, -3.87353410e-03,  3.06819785e-03, ...,\n",
       "          1.06278796e-02,  5.39511393e-03, -7.22674864e-03],\n",
       "        [ 1.39601812e-01, -4.33366834e-02, -9.32850779e-03, ...,\n",
       "         -2.21896071e-02,  8.33944500e-03,  1.76864751e-02],\n",
       "        [ 1.13108080e-01, -3.50728109e-02, -1.06110823e-03, ...,\n",
       "         -1.85487919e-02,  5.06883931e-03,  8.95991043e-03]]))"
      ]
     },
     "execution_count": 9,
     "metadata": {},
     "output_type": "execute_result"
    }
   ],
   "source": [
    "X.shape, X"
   ]
  },
  {
   "cell_type": "code",
   "execution_count": 40,
   "metadata": {},
   "outputs": [],
   "source": [
    "# np.savetxt(\"./data/X.txt\", X)"
   ]
  },
  {
   "cell_type": "markdown",
   "metadata": {},
   "source": [
    "# KMeans\n",
    "#### K-Means Clustering \n",
    "1. Choose the number of clusters(K) and obtain the data points \n",
    "2. Place the centroids c_1, c_2, ..... c_k randomly \n",
    "3. Repeat steps 4 and 5 until convergence or until the end of a fixed number of iterations\n",
    "4. for each data point x_i:\n",
    "       - find the nearest centroid(c_1, c_2 .. c_k) \n",
    "       - assign the point to that cluster \n",
    "5. for each cluster j = 1..k\n",
    "       - new centroid = mean of all points assigned to that cluster\n",
    "6. End"
   ]
  },
  {
   "cell_type": "code",
   "execution_count": 84,
   "metadata": {},
   "outputs": [],
   "source": [
    "class KMeans:\n",
    "    def __init__(self, K, n_features, random_state=None):\n",
    "        if random_state:\n",
    "            np.random.seed(seed=random_state)\n",
    "        self.K = K\n",
    "        self.f = n_features\n",
    "        self.centroids = (np.random.rand(K, n_features) - 0.5) * 100 #Value between -50 <= x < 50\n",
    "        \n",
    "    def fit(self, X, max_iter = 300):\n",
    "        X_size = X.shape[0]\n",
    "        U_old = np.zeros(X_size)\n",
    "        U = np.zeros(X_size)\n",
    "        \n",
    "        for i in range(max_iter):\n",
    "            U_old = np.copy(U)\n",
    "            U, inertia = self.predict(X, inertia=True)\n",
    "            \n",
    "            for j in range(self.K):\n",
    "                filt = U == j\n",
    "                if filt.any():\n",
    "                    self.centroids[j] = np.mean(X[filt], axis=0)\n",
    "            \n",
    "            if (U == U_old).all(): # Converge\n",
    "                return inertia\n",
    "            \n",
    "            print('Iter:', i, 'Inerzia:', inertia, 'N. Changes:', np.sum(U != U_old))\n",
    "            \n",
    "        return inertia\n",
    "    \n",
    "    def calc_inertia(self, X):\n",
    "        return self.predict(X, inertia=True)[1]\n",
    "    \n",
    "    def predict(self, X, inertia=False):\n",
    "        n = X.shape[0]\n",
    "        # \n",
    "        # _D = []\n",
    "        # for i in range(self.K):\n",
    "        #     _c =  self.centroids[i]\n",
    "        #     _d = X - _c\n",
    "        #     _D.append(np.linalg.norm(_d, axis=1))\n",
    "        # _D = np.array(_D).T\n",
    "        # \n",
    "        # res = np.argmin(_D, axis=1)\n",
    "        \n",
    "        res = np.zeros(X.shape[0])\n",
    "        dist = np.zeros((n, self.K))\n",
    "        iner = np.zeros(n)\n",
    "        for i in range(X.shape[0]):\n",
    "            x = X[i]\n",
    "            min_dist = np.inf\n",
    "            for j in range(self.K):\n",
    "                dist[i,j] = scipy.spatial.distance.euclidean(x, self.centroids[j])\n",
    "                # if dist[i,j] < min_dist:\n",
    "                #     res[i] = j\n",
    "                #     iner[i] = dist[i,j]\n",
    "                #     min_dist = dist[i,j]\n",
    "        \n",
    "        res_2 = np.argmin(dist, axis=1)\n",
    "        \n",
    "        if (res != res_2).any():\n",
    "            print('Ci sono problemi')\n",
    "        \n",
    "        if inertia:\n",
    "            #_inertia = np.sum(np.take_along_axis(_D, np.expand_dims(res, axis=-1), axis=-1))\n",
    "            #return res, _inertia\n",
    "            #_inertia = np.sum(np.take_along_axis(dist, np.expand_dims(res, axis=-1), axis=-1))\n",
    "            return res, np.sum(iner)\n",
    "        \n",
    "        return res"
   ]
  },
  {
   "cell_type": "code",
   "execution_count": 8,
   "metadata": {},
   "outputs": [],
   "source": [
    "K = 20\n",
    "max_iter = 300\n",
    "#our_kMeans = KMeans(K, n_best_components)\n",
    "sk_kMeans = SK_KMeans(n_clusters=K, max_iter=max_iter)"
   ]
  },
  {
   "cell_type": "code",
   "execution_count": 9,
   "metadata": {
    "scrolled": true
   },
   "outputs": [
    {
     "data": {
      "text/plain": [
       "KMeans(algorithm='auto', copy_x=True, init='k-means++', max_iter=300,\n",
       "       n_clusters=20, n_init=10, n_jobs=None, precompute_distances='auto',\n",
       "       random_state=None, tol=0.0001, verbose=0)"
      ]
     },
     "execution_count": 9,
     "metadata": {},
     "output_type": "execute_result"
    }
   ],
   "source": [
    "#our_inertia = our_kMeans.fit(X, max_iter=max_iter)\n",
    "sk_kMeans.fit(X)\n",
    "# sk_inertia = k_means(X, K, max_iter=max_iter, verbose=True)"
   ]
  },
  {
   "cell_type": "code",
   "execution_count": 18,
   "metadata": {},
   "outputs": [],
   "source": [
    "_, our_inertia = our_kMeans.predict(X, True)"
   ]
  },
  {
   "cell_type": "code",
   "execution_count": 80,
   "metadata": {},
   "outputs": [],
   "source": [
    "sk_prediction = sk_kMeans.predict(X)"
   ]
  },
  {
   "cell_type": "code",
   "execution_count": 82,
   "metadata": {},
   "outputs": [
    {
     "data": {
      "text/plain": [
       "(array([ 0,  1,  2,  3,  4,  5,  6,  7,  8,  9, 10, 11, 12, 13, 14, 15, 16,\n",
       "        17, 18, 19]),\n",
       " array([  441,   864,  1505, 32746,  3915,  1100, 10135,  2431,  1773,\n",
       "         2366,   895,  3886,  2497,   712,   229,  3415,  2004,  1758,\n",
       "          456,  1130], dtype=int64))"
      ]
     },
     "execution_count": 82,
     "metadata": {},
     "output_type": "execute_result"
    }
   ],
   "source": [
    "np.unique(sk_prediction, return_counts=True)"
   ]
  },
  {
   "cell_type": "code",
   "execution_count": 17,
   "metadata": {},
   "outputs": [
    {
     "data": {
      "text/plain": [
       "True"
      ]
     },
     "execution_count": 17,
     "metadata": {},
     "output_type": "execute_result"
    }
   ],
   "source": [
    "our_inertia"
   ]
  },
  {
   "cell_type": "code",
   "execution_count": null,
   "metadata": {},
   "outputs": [],
   "source": [
    "our_inertia, sk_inertia"
   ]
  },
  {
   "cell_type": "code",
   "execution_count": 27,
   "metadata": {},
   "outputs": [
    {
     "data": {
      "text/plain": [
       "(74258, 950)"
      ]
     },
     "execution_count": 27,
     "metadata": {},
     "output_type": "execute_result"
    }
   ],
   "source": [
    "_X = X[:]\n",
    "_X.shape"
   ]
  },
  {
   "cell_type": "code",
   "execution_count": 32,
   "metadata": {},
   "outputs": [],
   "source": [
    "l = [2, 4, 6, 8, 10, 12, 15, 17, 20, 23, 27, 31, 38, 45, 52, 60, 75, 90, 110, 150, 200]"
   ]
  },
  {
   "cell_type": "code",
   "execution_count": 33,
   "metadata": {
    "scrolled": true
   },
   "outputs": [
    {
     "name": "stderr",
     "output_type": "stream",
     "text": [
      "100%|███████████████████████████████████████████████████████████████████████████████| 21/21 [2:26:49<00:00, 419.48s/it]\n"
     ]
    },
    {
     "data": {
      "text/plain": [
       "[<matplotlib.lines.Line2D at 0x2ddd6c866c8>]"
      ]
     },
     "execution_count": 33,
     "metadata": {},
     "output_type": "execute_result"
    },
    {
     "data": {
      "image/png": "[encoded data removed]",
      "text/plain": [
       "<Figure size 432x288 with 1 Axes>"
      ]
     },
     "metadata": {
      "needs_background": "light"
     },
     "output_type": "display_data"
    }
   ],
   "source": [
    "elbow = {}\n",
    "for k in tqdm(l):\n",
    "    elbow_model = SK_KMeans(n_clusters=k)\n",
    "    elbow_model.fit_predict(_X)\n",
    "    elbow[k] = elbow_model.inertia_ # inertia = sum of squared distances of samples to their closest cluster center\n",
    "    \n",
    "# for k in tqdm(range(50, 201, 25)):\n",
    "#     elbow_model = SK_KMeans(n_clusters=k)\n",
    "#     elbow_model.fit_predict(_X)\n",
    "#     elbow[k] = elbow_model.inertia_ # inertia = sum of squared distances of samples to their closest cluster center\n",
    "    \n",
    "plt.plot(list(elbow.keys()), list(elbow.values()))\n"
   ]
  },
  {
   "cell_type": "code",
   "execution_count": 54,
   "metadata": {},
   "outputs": [
    {
     "data": {
      "text/plain": [
       "array([[ 1.94887531e-01, -5.87168357e-02, -1.90294925e-02, ...,\n",
       "        -2.02419821e-02, -3.34133749e-02,  1.06753814e-03],\n",
       "       [ 1.48120329e-01, -1.05293931e-02, -6.57477170e-06, ...,\n",
       "        -1.26133500e-02,  8.01371409e-03,  1.03209963e-02],\n",
       "       [ 1.51334423e-01, -1.09013685e-01, -1.33395812e-01, ...,\n",
       "         1.58058832e-02, -1.51202133e-02,  7.94128817e-03],\n",
       "       ...,\n",
       "       [ 4.43693016e-02, -3.87353410e-03,  3.06819785e-03, ...,\n",
       "         4.43489258e-03, -7.73628257e-03,  1.68864628e-02],\n",
       "       [ 1.39601812e-01, -4.33366834e-02, -9.32850777e-03, ...,\n",
       "         3.13507848e-02,  1.51967052e-03, -4.14573539e-02],\n",
       "       [ 1.13108080e-01, -3.50728109e-02, -1.06110823e-03, ...,\n",
       "         1.15547431e-02,  3.02739752e-03,  5.66844116e-03]])"
      ]
     },
     "execution_count": 54,
     "metadata": {},
     "output_type": "execute_result"
    }
   ],
   "source": [
    "X"
   ]
  },
  {
   "cell_type": "code",
   "execution_count": 34,
   "metadata": {},
   "outputs": [
    {
     "data": {
      "text/plain": [
       "{2: 41751.43134483724,\n",
       " 4: 40329.381990624475,\n",
       " 6: 39570.10930757552,\n",
       " 8: 38584.125634933655,\n",
       " 10: 38243.23251313096,\n",
       " 12: 37919.936974100594,\n",
       " 15: 37457.5397798227,\n",
       " 17: 37159.64518375467,\n",
       " 20: 36673.78676427781,\n",
       " 23: 36284.27161604379,\n",
       " 27: 35810.771976734286,\n",
       " 31: 35502.317411071366,\n",
       " 38: 34864.89631815433,\n",
       " 45: 34426.79435320746,\n",
       " 52: 33972.02166589827,\n",
       " 60: 33455.50078864582,\n",
       " 75: 32774.2817165911,\n",
       " 90: 32191.979546429324,\n",
       " 110: 31467.504530706166,\n",
       " 150: 30441.23201402301,\n",
       " 200: 29430.678709622152}"
      ]
     },
     "execution_count": 34,
     "metadata": {},
     "output_type": "execute_result"
    }
   ],
   "source": [
    "elbow"
   ]
  },
  {
   "cell_type": "code",
   "execution_count": 36,
   "metadata": {},
   "outputs": [
    {
     "data": {
      "text/plain": [
       "[<matplotlib.lines.Line2D at 0x2ddccaa9188>]"
      ]
     },
     "execution_count": 36,
     "metadata": {},
     "output_type": "execute_result"
    },
    {
     "data": {
      "image/png": "[encoded data removed]",
      "text/plain": [
       "<Figure size 1152x720 with 1 Axes>"
      ]
     },
     "metadata": {
      "needs_background": "light"
     },
     "output_type": "display_data"
    }
   ],
   "source": [
    "plt.figure(figsize=(16,10))\n",
    "plt.plot(list(elbow.keys()), list(elbow.values()))"
   ]
  },
  {
   "cell_type": "code",
   "execution_count": 39,
   "metadata": {},
   "outputs": [
    {
     "data": {
      "text/plain": [
       "Text(30, 38000, 'Cluster Size')"
      ]
     },
     "execution_count": 39,
     "metadata": {},
     "output_type": "execute_result"
    },
    {
     "data": {
      "image/png": "[encoded data removed]",
      "text/plain": [
       "<Figure size 1152x720 with 1 Axes>"
      ]
     },
     "metadata": {
      "needs_background": "light"
     },
     "output_type": "display_data"
    }
   ],
   "source": [
    "plt.figure(figsize=(16,10))\n",
    "plt.plot(list(elbow.keys()), list(elbow.values()))\n",
    "plt.annotate('Cluster Size', xy=(20, elbow[20]), xytext=(30,38000), arrowprops=dict(facecolor='black', shrink=0.05))"
   ]
  },
  {
   "cell_type": "code",
   "execution_count": 86,
   "metadata": {},
   "outputs": [],
   "source": [
    "# %%time\n",
    "model = KMeans(K, n_best_components)"
   ]
  },
  {
   "cell_type": "code",
   "execution_count": 87,
   "metadata": {},
   "outputs": [
    {
     "data": {
      "text/plain": [
       "array([[ 1.94887531e-01, -5.87168357e-02, -1.90294925e-02, ...,\n",
       "        -2.02419821e-02, -3.34133749e-02,  1.06753814e-03],\n",
       "       [ 1.48120329e-01, -1.05293931e-02, -6.57477170e-06, ...,\n",
       "        -1.26133500e-02,  8.01371409e-03,  1.03209963e-02],\n",
       "       [ 1.51334423e-01, -1.09013685e-01, -1.33395812e-01, ...,\n",
       "         1.58058832e-02, -1.51202133e-02,  7.94128817e-03],\n",
       "       ...,\n",
       "       [ 4.43693016e-02, -3.87353410e-03,  3.06819785e-03, ...,\n",
       "         4.43489258e-03, -7.73628257e-03,  1.68864628e-02],\n",
       "       [ 1.39601812e-01, -4.33366834e-02, -9.32850777e-03, ...,\n",
       "         3.13507848e-02,  1.51967052e-03, -4.14573539e-02],\n",
       "       [ 1.13108080e-01, -3.50728109e-02, -1.06110823e-03, ...,\n",
       "         1.15547431e-02,  3.02739752e-03,  5.66844116e-03]])"
      ]
     },
     "execution_count": 87,
     "metadata": {},
     "output_type": "execute_result"
    }
   ],
   "source": [
    "X"
   ]
  },
  {
   "cell_type": "code",
   "execution_count": 88,
   "metadata": {
    "scrolled": true
   },
   "outputs": [
    {
     "name": "stdout",
     "output_type": "stream",
     "text": [
      "Inizio iterazione  0\n",
      "U [ 1.  0. 14. ...  1.  9.  9.] U_old [0. 0. 0. ... 0. 0. 0.] N. Changes: 69932\n",
      "(array([ 0.,  1.,  2.,  3.,  4.,  5.,  6.,  7.,  8.,  9., 10., 11., 12.,\n",
      "       13., 14., 15., 16., 17., 18., 19.]), array([ 4326, 10804,  2739,  1314,  1128,  4560,  2088,  3192,  1792,\n",
      "        3018,  5370,  5843,  2523,  4075,  3923,  6425,  1799,   609,\n",
      "        5907,  2823], dtype=int64))\n",
      "Fine predict\n",
      "Fine update\n",
      "Fine controllo di convergenza\n",
      "Iter: 0 Inerzia: 5861923.720607534\n",
      "Inizio iterazione  1\n",
      "U [18.  1. 10. ... 16.  3.  0.] U_old [ 1.  0. 14. ...  1.  9.  9.] N. Changes: 54088\n",
      "(array([ 0.,  1.,  2.,  3.,  4.,  5.,  6.,  7.,  8.,  9., 10., 11., 12.,\n",
      "       13., 14., 15., 16., 17., 18., 19.]), array([7922, 4817, 4925, 6092, 1983,  647, 1852, 6122, 2600, 2985, 4842,\n",
      "       3172, 3585, 3398, 1881, 1250, 6163, 1008, 3388, 5626], dtype=int64))\n",
      "Fine predict\n",
      "Fine update\n",
      "Fine controllo di convergenza\n",
      "Iter: 1 Inerzia: 5431087.079502913\n",
      "Inizio iterazione  2\n",
      "U [18.  1. 10. ... 16.  3. 16.] U_old [18.  1. 10. ... 16.  3.  0.] N. Changes: 23680\n",
      "(array([ 0.,  1.,  2.,  3.,  4.,  5.,  6.,  7.,  8.,  9., 10., 11., 12.,\n",
      "       13., 14., 15., 16., 17., 18., 19.]), array([ 4820,  4879,  4601,  6625,  2599,   862,  1041,  5451,  1919,\n",
      "        2461,  4200,  3821,  2999,  3374,  1352,  1744, 12788,  1340,\n",
      "        2321,  5061], dtype=int64))\n",
      "Fine predict\n",
      "Fine update\n",
      "Fine controllo di convergenza\n",
      "Iter: 2 Inerzia: 5225094.973973883\n",
      "Inizio iterazione  3\n",
      "U [18.  1. 10. ... 16.  3. 16.] U_old [18.  1. 10. ... 16.  3. 16.] N. Changes: 10262\n",
      "(array([ 0.,  1.,  2.,  3.,  4.,  5.,  6.,  7.,  8.,  9., 10., 11., 12.,\n",
      "       13., 14., 15., 16., 17., 18., 19.]), array([ 3456,  4118,  4111,  7019,  3184,   772,   871,  5023,  1790,\n",
      "        2359,  3987,  4507,  2799,  3179,  1041,  1847, 16293,  1272,\n",
      "        1705,  4925], dtype=int64))\n",
      "Fine predict\n",
      "Fine update\n",
      "Fine controllo di convergenza\n",
      "Iter: 3 Inerzia: 5174656.727591033\n",
      "Inizio iterazione  4\n",
      "U [18.  1. 10. ... 16.  3. 16.] U_old [18.  1. 10. ... 16.  3. 16.] N. Changes: 6356\n",
      "(array([ 0.,  1.,  2.,  3.,  4.,  5.,  6.,  7.,  8.,  9., 10., 11., 12.,\n",
      "       13., 14., 15., 16., 17., 18., 19.]), array([ 2892,  3476,  3933,  7323,  4013,   719,   787,  4855,  1765,\n",
      "        2290,  3927,  4780,  2939,  2981,   858,  1726, 17461,  1246,\n",
      "        1418,  4869], dtype=int64))\n",
      "Fine predict\n",
      "Fine update\n",
      "Fine controllo di convergenza\n",
      "Iter: 4 Inerzia: 5162278.209876342\n",
      "Inizio iterazione  5\n",
      "U [18.  1. 10. ... 16.  3. 16.] U_old [18.  1. 10. ... 16.  3. 16.] N. Changes: 4703\n",
      "(array([ 0.,  1.,  2.,  3.,  4.,  5.,  6.,  7.,  8.,  9., 10., 11., 12.,\n",
      "       13., 14., 15., 16., 17., 18., 19.]), array([ 2641,  3181,  3875,  7501,  4336,   703,   757,  4764,  1762,\n",
      "        2194,  3908,  5004,  3015,  2819,   727,  1561, 18148,  1231,\n",
      "        1275,  4856], dtype=int64))\n",
      "Fine predict\n",
      "Fine update\n",
      "Fine controllo di convergenza\n",
      "Iter: 5 Inerzia: 5155240.868485899\n",
      "Inizio iterazione  6\n",
      "U [18.  1. 10. ... 16.  3. 16.] U_old [18.  1. 10. ... 16.  3. 16.] N. Changes: 3549\n",
      "(array([ 0.,  1.,  2.,  3.,  4.,  5.,  6.,  7.,  8.,  9., 10., 11., 12.,\n",
      "       13., 14., 15., 16., 17., 18., 19.]), array([ 2533,  2926,  3853,  7773,  4085,   695,   734,  4749,  1761,\n",
      "        2058,  3904,  5311,  3018,  2786,   675,  1428, 18691,  1220,\n",
      "        1203,  4855], dtype=int64))\n",
      "Fine predict\n",
      "Fine update\n",
      "Fine controllo di convergenza\n",
      "Iter: 6 Inerzia: 5151190.136710597\n",
      "Inizio iterazione  7\n",
      "U [18.  1. 10. ... 16.  3. 16.] U_old [18.  1. 10. ... 16.  3. 16.] N. Changes: 2912\n",
      "(array([ 0.,  1.,  2.,  3.,  4.,  5.,  6.,  7.,  8.,  9., 10., 11., 12.,\n",
      "       13., 14., 15., 16., 17., 18., 19.]), array([ 2473,  2745,  3846,  8015,  3702,   694,   728,  4776,  1761,\n",
      "        1879,  3900,  5634,  2940,  2790,   653,  1319, 19173,  1216,\n",
      "        1156,  4858], dtype=int64))\n",
      "Fine predict\n",
      "Fine update\n",
      "Fine controllo di convergenza\n",
      "Iter: 7 Inerzia: 5148979.292500237\n",
      "Inizio iterazione  8\n",
      "U [18.  1. 10. ... 16.  3.  3.] U_old [18.  1. 10. ... 16.  3. 16.] N. Changes: 2449\n",
      "(array([ 0.,  1.,  2.,  3.,  4.,  5.,  6.,  7.,  8.,  9., 10., 11., 12.,\n",
      "       13., 14., 15., 16., 17., 18., 19.]), array([ 2448,  2647,  3842,  8222,  3394,   693,   723,  4819,  1761,\n",
      "        1683,  3901,  5919,  2796,  2797,   640,  1245, 19528,  1215,\n",
      "        1128,  4857], dtype=int64))\n",
      "Fine predict\n",
      "Fine update\n",
      "Fine controllo di convergenza\n",
      "Iter: 8 Inerzia: 5146989.4633426815\n",
      "Inizio iterazione  9\n",
      "U [18.  1. 10. ... 16.  3.  3.] U_old [18.  1. 10. ... 16.  3.  3.] N. Changes: 2172\n",
      "(array([ 0.,  1.,  2.,  3.,  4.,  5.,  6.,  7.,  8.,  9., 10., 11., 12.,\n",
      "       13., 14., 15., 16., 17., 18., 19.]), array([ 2435,  2594,  3837,  8403,  3142,   690,   720,  4936,  1763,\n",
      "        1576,  3899,  6056,  2559,  2792,   632,  1139, 19904,  1211,\n",
      "        1112,  4858], dtype=int64))\n",
      "Fine predict\n",
      "Fine update\n",
      "Fine controllo di convergenza\n",
      "Iter: 9 Inerzia: 5145029.292728556\n",
      "Inizio iterazione  10\n",
      "U [18.  1. 10. ... 16.  3.  3.] U_old [18.  1. 10. ... 16.  3.  3.] N. Changes: 1707\n",
      "(array([ 0.,  1.,  2.,  3.,  4.,  5.,  6.,  7.,  8.,  9., 10., 11., 12.,\n",
      "       13., 14., 15., 16., 17., 18., 19.]), array([ 2435,  2566,  3838,  8544,  2958,   690,   716,  5054,  1763,\n",
      "        1517,  3899,  6115,  2475,  2812,   631,  1036, 20033,  1209,\n",
      "        1109,  4858], dtype=int64))\n",
      "Fine predict\n",
      "Fine update\n",
      "Fine controllo di convergenza\n",
      "Iter: 10 Inerzia: 5143043.27714628\n",
      "Inizio iterazione  11\n",
      "U [18.  1. 10. ... 16.  3.  3.] U_old [18.  1. 10. ... 16.  3.  3.] N. Changes: 1395\n",
      "(array([ 0.,  1.,  2.,  3.,  4.,  5.,  6.,  7.,  8.,  9., 10., 11., 12.,\n",
      "       13., 14., 15., 16., 17., 18., 19.]), array([ 2439,  2568,  3842,  8628,  2795,   690,   716,  5237,  1764,\n",
      "        1495,  3900,  6023,  2427,  2839,   629,   987, 20102,  1211,\n",
      "        1108,  4858], dtype=int64))\n",
      "Fine predict\n",
      "Fine update\n",
      "Fine controllo di convergenza\n",
      "Iter: 11 Inerzia: 5142398.8038143655\n",
      "Inizio iterazione  12\n",
      "U [18.  1. 10. ... 16.  3.  3.] U_old [18.  1. 10. ... 16.  3.  3.] N. Changes: 1151\n",
      "(array([ 0.,  1.,  2.,  3.,  4.,  5.,  6.,  7.,  8.,  9., 10., 11., 12.,\n",
      "       13., 14., 15., 16., 17., 18., 19.]), array([ 2447,  2581,  3844,  8672,  2613,   689,   718,  5401,  1761,\n",
      "        1485,  3899,  5914,  2407,  2857,   626,   957, 20211,  1211,\n",
      "        1110,  4855], dtype=int64))\n",
      "Fine predict\n",
      "Fine update\n",
      "Fine controllo di convergenza\n",
      "Iter: 12 Inerzia: 5142120.851769125\n",
      "Inizio iterazione  13\n",
      "U [18.  1. 10. ... 16. 16.  3.] U_old [18.  1. 10. ... 16.  3.  3.] N. Changes: 1037\n",
      "(array([ 0.,  1.,  2.,  3.,  4.,  5.,  6.,  7.,  8.,  9., 10., 11., 12.,\n",
      "       13., 14., 15., 16., 17., 18., 19.]), array([ 2453,  2588,  3849,  8716,  2410,   691,   722,  5563,  1761,\n",
      "        1485,  3892,  5755,  2396,  2869,   624,   934, 20374,  1209,\n",
      "        1113,  4854], dtype=int64))\n",
      "Fine predict\n",
      "Fine update\n",
      "Fine controllo di convergenza\n",
      "Iter: 13 Inerzia: 5141856.6441157535\n",
      "Inizio iterazione  14\n",
      "U [18.  1. 10. ... 16. 16.  3.] U_old [18.  1. 10. ... 16. 16.  3.] N. Changes: 941\n",
      "(array([ 0.,  1.,  2.,  3.,  4.,  5.,  6.,  7.,  8.,  9., 10., 11., 12.,\n",
      "       13., 14., 15., 16., 17., 18., 19.]), array([ 2459,  2602,  3851,  8718,  2174,   691,   723,  5722,  1760,\n",
      "        1490,  3888,  5599,  2388,  2879,   623,   918, 20593,  1209,\n",
      "        1115,  4856], dtype=int64))\n",
      "Fine predict\n",
      "Fine update\n",
      "Fine controllo di convergenza\n",
      "Iter: 14 Inerzia: 5141568.666286451\n",
      "Inizio iterazione  15\n",
      "U [18.  1. 10. ... 16. 16.  3.] U_old [18.  1. 10. ... 16. 16.  3.] N. Changes: 815\n",
      "(array([ 0.,  1.,  2.,  3.,  4.,  5.,  6.,  7.,  8.,  9., 10., 11., 12.,\n",
      "       13., 14., 15., 16., 17., 18., 19.]), array([ 2463,  2628,  3851,  8712,  1984,   691,   722,  5861,  1760,\n",
      "        1490,  3889,  5439,  2388,  2884,   622,   900, 20792,  1208,\n",
      "        1118,  4856], dtype=int64))\n",
      "Fine predict\n",
      "Fine update\n",
      "Fine controllo di convergenza\n",
      "Iter: 15 Inerzia: 5141244.431850408\n",
      "Inizio iterazione  16\n",
      "U [18.  1. 10. ... 16. 16.  3.] U_old [18.  1. 10. ... 16. 16.  3.] N. Changes: 655\n",
      "(array([ 0.,  1.,  2.,  3.,  4.,  5.,  6.,  7.,  8.,  9., 10., 11., 12.,\n",
      "       13., 14., 15., 16., 17., 18., 19.]), array([ 2466,  2650,  3851,  8681,  1849,   691,   722,  5977,  1761,\n",
      "        1488,  3888,  5288,  2389,  2889,   621,   883, 20979,  1207,\n",
      "        1121,  4857], dtype=int64))\n",
      "Fine predict\n"
     ]
    },
    {
     "name": "stdout",
     "output_type": "stream",
     "text": [
      "Fine update\n",
      "Fine controllo di convergenza\n",
      "Iter: 16 Inerzia: 5141033.796278571\n",
      "Inizio iterazione  17\n",
      "U [18.  1. 10. ... 16. 16.  3.] U_old [18.  1. 10. ... 16. 16.  3.] N. Changes: 615\n",
      "(array([ 0.,  1.,  2.,  3.,  4.,  5.,  6.,  7.,  8.,  9., 10., 11., 12.,\n",
      "       13., 14., 15., 16., 17., 18., 19.]), array([ 2470,  2675,  3851,  8670,  1781,   690,   724,  6096,  1761,\n",
      "        1484,  3887,  5101,  2388,  2901,   620,   851, 21121,  1209,\n",
      "        1121,  4857], dtype=int64))\n",
      "Fine predict\n",
      "Fine update\n",
      "Fine controllo di convergenza\n",
      "Iter: 17 Inerzia: 5140911.996784322\n",
      "Inizio iterazione  18\n",
      "U [18.  1. 10. ... 16. 16.  3.] U_old [18.  1. 10. ... 16. 16.  3.] N. Changes: 580\n",
      "(array([ 0.,  1.,  2.,  3.,  4.,  5.,  6.,  7.,  8.,  9., 10., 11., 12.,\n",
      "       13., 14., 15., 16., 17., 18., 19.]), array([ 2473,  2712,  3850,  8652,  1721,   689,   725,  6192,  1761,\n",
      "        1479,  3888,  4931,  2378,  2904,   617,   810, 21290,  1208,\n",
      "        1120,  4858], dtype=int64))\n",
      "Fine predict\n",
      "Fine update\n",
      "Fine controllo di convergenza\n",
      "Iter: 18 Inerzia: 5140756.445505144\n",
      "Inizio iterazione  19\n",
      "U [18.  1. 10. ... 16. 16.  3.] U_old [18.  1. 10. ... 16. 16.  3.] N. Changes: 567\n",
      "(array([ 0.,  1.,  2.,  3.,  4.,  5.,  6.,  7.,  8.,  9., 10., 11., 12.,\n",
      "       13., 14., 15., 16., 17., 18., 19.]), array([ 2477,  2742,  3850,  8681,  1636,   689,   725,  6298,  1761,\n",
      "        1473,  3888,  4740,  2376,  2905,   616,   770, 21444,  1209,\n",
      "        1120,  4858], dtype=int64))\n",
      "Fine predict\n",
      "Fine update\n",
      "Fine controllo di convergenza\n",
      "Iter: 19 Inerzia: 5140522.011742923\n",
      "Inizio iterazione  20\n",
      "U [18.  1. 10. ... 16. 16.  3.] U_old [18.  1. 10. ... 16. 16.  3.] N. Changes: 571\n",
      "(array([ 0.,  1.,  2.,  3.,  4.,  5.,  6.,  7.,  8.,  9., 10., 11., 12.,\n",
      "       13., 14., 15., 16., 17., 18., 19.]), array([ 2479,  2783,  3849,  8733,  1535,   692,   726,  6384,  1759,\n",
      "        1472,  3888,  4545,  2379,  2909,   616,   705, 21615,  1209,\n",
      "        1122,  4858], dtype=int64))\n",
      "Fine predict\n",
      "Fine update\n",
      "Fine controllo di convergenza\n",
      "Iter: 20 Inerzia: 5140173.530859918\n",
      "Inizio iterazione  21\n",
      "U [18.  1. 10. ... 16. 16.  3.] U_old [18.  1. 10. ... 16. 16.  3.] N. Changes: 684\n",
      "(array([ 0.,  1.,  2.,  3.,  4.,  5.,  6.,  7.,  8.,  9., 10., 11., 12.,\n",
      "       13., 14., 15., 16., 17., 18., 19.]), array([ 2480,  2853,  3850,  8789,  1393,   694,   725,  6474,  1759,\n",
      "        1469,  3888,  4351,  2378,  2914,   616,   630, 21803,  1210,\n",
      "        1125,  4857], dtype=int64))\n",
      "Fine predict\n",
      "Fine update\n",
      "Fine controllo di convergenza\n",
      "Iter: 21 Inerzia: 5139552.4806999145\n",
      "Inizio iterazione  22\n",
      "U [18.  1. 10. ... 16. 16.  3.] U_old [18.  1. 10. ... 16. 16.  3.] N. Changes: 757\n",
      "(array([ 0.,  1.,  2.,  3.,  4.,  5.,  6.,  7.,  8.,  9., 10., 11., 12.,\n",
      "       13., 14., 15., 16., 17., 18., 19.]), array([ 2480,  2917,  3850,  8833,  1212,   696,   726,  6559,  1759,\n",
      "        1464,  3889,  4216,  2378,  2919,   616,   505, 22044,  1212,\n",
      "        1126,  4857], dtype=int64))\n",
      "Fine predict\n",
      "Fine update\n",
      "Fine controllo di convergenza\n",
      "Iter: 22 Inerzia: 5138199.03351146\n",
      "Inizio iterazione  23\n",
      "U [18.  1. 10. ... 16. 16.  3.] U_old [18.  1. 10. ... 16. 16.  3.] N. Changes: 586\n",
      "(array([ 0.,  1.,  2.,  3.,  4.,  5.,  6.,  7.,  8.,  9., 10., 11., 12.,\n",
      "       13., 14., 15., 16., 17., 18., 19.]), array([ 2473,  2995,  3849,  8873,  1093,   697,   727,  6625,  1759,\n",
      "        1462,  3889,  4093,  2382,  2922,   617,   469, 22138,  1212,\n",
      "        1126,  4857], dtype=int64))\n",
      "Fine predict\n",
      "Fine update\n",
      "Fine controllo di convergenza\n",
      "Iter: 23 Inerzia: 5135556.477139797\n",
      "Inizio iterazione  24\n",
      "U [18.  1. 10. ... 16. 16.  3.] U_old [18.  1. 10. ... 16. 16.  3.] N. Changes: 428\n",
      "(array([ 0.,  1.,  2.,  3.,  4.,  5.,  6.,  7.,  8.,  9., 10., 11., 12.,\n",
      "       13., 14., 15., 16., 17., 18., 19.]), array([ 2468,  3050,  3849,  8890,  1022,   696,   727,  6680,  1759,\n",
      "        1459,  3890,  3971,  2385,  2925,   617,   457, 22221,  1213,\n",
      "        1124,  4855], dtype=int64))\n",
      "Fine predict\n",
      "Fine update\n",
      "Fine controllo di convergenza\n",
      "Iter: 24 Inerzia: 5135190.879952516\n",
      "Inizio iterazione  25\n",
      "U [18.  1. 10. ... 16. 16.  3.] U_old [18.  1. 10. ... 16. 16.  3.] N. Changes: 350\n",
      "(array([ 0.,  1.,  2.,  3.,  4.,  5.,  6.,  7.,  8.,  9., 10., 11., 12.,\n",
      "       13., 14., 15., 16., 17., 18., 19.]), array([ 2468,  3096,  3849,  8914,   971,   696,   727,  6721,  1759,\n",
      "        1460,  3890,  3860,  2386,  2930,   617,   453, 22271,  1214,\n",
      "        1123,  4853], dtype=int64))\n",
      "Fine predict\n",
      "Fine update\n",
      "Fine controllo di convergenza\n",
      "Iter: 25 Inerzia: 5135085.141647132\n",
      "Inizio iterazione  26\n",
      "U [18.  1. 10. ... 16. 16.  3.] U_old [18.  1. 10. ... 16. 16.  3.] N. Changes: 275\n",
      "(array([ 0.,  1.,  2.,  3.,  4.,  5.,  6.,  7.,  8.,  9., 10., 11., 12.,\n",
      "       13., 14., 15., 16., 17., 18., 19.]), array([ 2467,  3141,  3849,  8944,   941,   693,   728,  6745,  1759,\n",
      "        1459,  3890,  3782,  2385,  2937,   616,   452, 22276,  1214,\n",
      "        1123,  4857], dtype=int64))\n",
      "Fine predict\n",
      "Fine update\n",
      "Fine controllo di convergenza\n",
      "Iter: 26 Inerzia: 5135025.525147822\n",
      "Inizio iterazione  27\n",
      "U [18.  1. 10. ... 16. 16.  3.] U_old [18.  1. 10. ... 16. 16.  3.] N. Changes: 197\n",
      "(array([ 0.,  1.,  2.,  3.,  4.,  5.,  6.,  7.,  8.,  9., 10., 11., 12.,\n",
      "       13., 14., 15., 16., 17., 18., 19.]), array([ 2465,  3183,  3846,  8971,   929,   692,   729,  6768,  1759,\n",
      "        1461,  3891,  3720,  2386,  2938,   615,   452, 22261,  1213,\n",
      "        1122,  4857], dtype=int64))\n",
      "Fine predict\n",
      "Fine update\n",
      "Fine controllo di convergenza\n",
      "Iter: 27 Inerzia: 5134991.080270509\n",
      "Inizio iterazione  28\n",
      "U [18.  1. 10. ... 16. 16.  3.] U_old [18.  1. 10. ... 16. 16.  3.] N. Changes: 139\n",
      "(array([ 0.,  1.,  2.,  3.,  4.,  5.,  6.,  7.,  8.,  9., 10., 11., 12.,\n",
      "       13., 14., 15., 16., 17., 18., 19.]), array([ 2460,  3219,  3845,  8981,   921,   692,   729,  6789,  1759,\n",
      "        1462,  3891,  3670,  2385,  2940,   614,   452, 22255,  1213,\n",
      "        1122,  4859], dtype=int64))\n",
      "Fine predict\n",
      "Fine update\n",
      "Fine controllo di convergenza\n",
      "Iter: 28 Inerzia: 5134979.772954006\n",
      "Inizio iterazione  29\n",
      "U [18.  1. 10. ... 16. 16.  3.] U_old [18.  1. 10. ... 16. 16.  3.] N. Changes: 120\n",
      "(array([ 0.,  1.,  2.,  3.,  4.,  5.,  6.,  7.,  8.,  9., 10., 11., 12.,\n",
      "       13., 14., 15., 16., 17., 18., 19.]), array([ 2456,  3248,  3843,  8996,   916,   692,   730,  6810,  1759,\n",
      "        1460,  3891,  3628,  2385,  2941,   614,   452, 22243,  1214,\n",
      "        1122,  4858], dtype=int64))\n",
      "Fine predict\n",
      "Fine update\n",
      "Fine controllo di convergenza\n",
      "Iter: 29 Inerzia: 5134969.410452869\n",
      "Inizio iterazione  30\n",
      "U [18.  1. 10. ... 16. 16.  3.] U_old [18.  1. 10. ... 16. 16.  3.] N. Changes: 130\n",
      "(array([ 0.,  1.,  2.,  3.,  4.,  5.,  6.,  7.,  8.,  9., 10., 11., 12.,\n",
      "       13., 14., 15., 16., 17., 18., 19.]), array([ 2454,  3290,  3841,  8996,   912,   692,   732,  6831,  1759,\n",
      "        1458,  3891,  3580,  2383,  2942,   614,   452, 22241,  1214,\n",
      "        1121,  4855], dtype=int64))\n",
      "Fine predict\n",
      "Fine update\n",
      "Fine controllo di convergenza\n",
      "Iter: 30 Inerzia: 5134963.122402434\n",
      "Inizio iterazione  31\n",
      "U [18.  1. 10. ... 16. 16.  3.] U_old [18.  1. 10. ... 16. 16.  3.] N. Changes: 145\n",
      "(array([ 0.,  1.,  2.,  3.,  4.,  5.,  6.,  7.,  8.,  9., 10., 11., 12.,\n",
      "       13., 14., 15., 16., 17., 18., 19.]), array([ 2454,  3329,  3838,  9010,   909,   693,   732,  6845,  1759,\n",
      "        1458,  3892,  3522,  2385,  2937,   614,   452, 22240,  1214,\n",
      "        1120,  4855], dtype=int64))\n",
      "Fine predict\n",
      "Fine update\n",
      "Fine controllo di convergenza\n",
      "Iter: 31 Inerzia: 5134953.401792397\n",
      "Inizio iterazione  32\n",
      "U [18.  1. 10. ... 16. 16.  3.] U_old [18.  1. 10. ... 16. 16.  3.] N. Changes: 162\n",
      "(array([ 0.,  1.,  2.,  3.,  4.,  5.,  6.,  7.,  8.,  9., 10., 11., 12.,\n",
      "       13., 14., 15., 16., 17., 18., 19.]), array([ 2452,  3361,  3837,  9024,   908,   693,   732,  6862,  1759,\n",
      "        1458,  3892,  3456,  2385,  2929,   615,   452, 22253,  1216,\n",
      "        1119,  4855], dtype=int64))\n",
      "Fine predict\n",
      "Fine update\n",
      "Fine controllo di convergenza\n",
      "Iter: 32 Inerzia: 5134944.0067339465\n",
      "Inizio iterazione  33\n",
      "U [18.  1. 10. ... 16. 16.  3.] U_old [18.  1. 10. ... 16. 16.  3.] N. Changes: 174\n",
      "(array([ 0.,  1.,  2.,  3.,  4.,  5.,  6.,  7.,  8.,  9., 10., 11., 12.,\n",
      "       13., 14., 15., 16., 17., 18., 19.]), array([ 2451,  3394,  3838,  9037,   908,   692,   732,  6884,  1759,\n",
      "        1457,  3893,  3393,  2379,  2928,   617,   452, 22253,  1217,\n",
      "        1119,  4855], dtype=int64))\n",
      "Fine predict\n"
     ]
    },
    {
     "name": "stdout",
     "output_type": "stream",
     "text": [
      "Fine update\n",
      "Fine controllo di convergenza\n",
      "Iter: 33 Inerzia: 5134931.47384809\n",
      "Inizio iterazione  34\n",
      "U [18.  1. 10. ... 16. 16.  3.] U_old [18.  1. 10. ... 16. 16.  3.] N. Changes: 161\n",
      "(array([ 0.,  1.,  2.,  3.,  4.,  5.,  6.,  7.,  8.,  9., 10., 11., 12.,\n",
      "       13., 14., 15., 16., 17., 18., 19.]), array([ 2451,  3427,  3836,  9032,   908,   691,   732,  6903,  1759,\n",
      "        1456,  3893,  3314,  2376,  2926,   617,   452, 22294,  1219,\n",
      "        1118,  4854], dtype=int64))\n",
      "Fine predict\n",
      "Fine update\n",
      "Fine controllo di convergenza\n",
      "Iter: 34 Inerzia: 5134921.351074662\n",
      "Inizio iterazione  35\n",
      "U [18.  1. 10. ... 16. 16.  3.] U_old [18.  1. 10. ... 16. 16.  3.] N. Changes: 183\n",
      "(array([ 0.,  1.,  2.,  3.,  4.,  5.,  6.,  7.,  8.,  9., 10., 11., 12.,\n",
      "       13., 14., 15., 16., 17., 18., 19.]), array([ 2450,  3463,  3834,  9038,   907,   691,   732,  6933,  1759,\n",
      "        1456,  3893,  3226,  2372,  2923,   616,   452, 22319,  1219,\n",
      "        1119,  4856], dtype=int64))\n",
      "Fine predict\n",
      "Fine update\n",
      "Fine controllo di convergenza\n",
      "Iter: 35 Inerzia: 5134908.617691071\n",
      "Inizio iterazione  36\n",
      "U [18.  1. 10. ... 16. 16.  3.] U_old [18.  1. 10. ... 16. 16.  3.] N. Changes: 159\n",
      "(array([ 0.,  1.,  2.,  3.,  4.,  5.,  6.,  7.,  8.,  9., 10., 11., 12.,\n",
      "       13., 14., 15., 16., 17., 18., 19.]), array([ 2448,  3477,  3834,  9040,   907,   691,   733,  6965,  1759,\n",
      "        1455,  3893,  3150,  2370,  2924,   616,   452, 22348,  1219,\n",
      "        1119,  4858], dtype=int64))\n",
      "Fine predict\n",
      "Fine update\n",
      "Fine controllo di convergenza\n",
      "Iter: 36 Inerzia: 5134902.056986943\n",
      "Inizio iterazione  37\n",
      "U [18.  1. 10. ... 16. 16.  3.] U_old [18.  1. 10. ... 16. 16.  3.] N. Changes: 127\n",
      "(array([ 0.,  1.,  2.,  3.,  4.,  5.,  6.,  7.,  8.,  9., 10., 11., 12.,\n",
      "       13., 14., 15., 16., 17., 18., 19.]), array([ 2447,  3494,  3834,  9054,   907,   691,   733,  6993,  1759,\n",
      "        1454,  3893,  3080,  2369,  2925,   616,   452, 22361,  1219,\n",
      "        1118,  4859], dtype=int64))\n",
      "Fine predict\n",
      "Fine update\n",
      "Fine controllo di convergenza\n",
      "Iter: 37 Inerzia: 5134902.581749279\n",
      "Inizio iterazione  38\n",
      "U [18.  1. 10. ... 16. 16.  3.] U_old [18.  1. 10. ... 16. 16.  3.] N. Changes: 101\n",
      "(array([ 0.,  1.,  2.,  3.,  4.,  5.,  6.,  7.,  8.,  9., 10., 11., 12.,\n",
      "       13., 14., 15., 16., 17., 18., 19.]), array([ 2447,  3521,  3834,  9063,   907,   691,   733,  7010,  1759,\n",
      "        1454,  3893,  3031,  2367,  2923,   616,   452, 22362,  1219,\n",
      "        1117,  4859], dtype=int64))\n",
      "Fine predict\n",
      "Fine update\n",
      "Fine controllo di convergenza\n",
      "Iter: 38 Inerzia: 5134902.197331939\n",
      "Inizio iterazione  39\n",
      "U [18.  1. 10. ... 16. 16.  3.] U_old [18.  1. 10. ... 16. 16.  3.] N. Changes: 69\n",
      "(array([ 0.,  1.,  2.,  3.,  4.,  5.,  6.,  7.,  8.,  9., 10., 11., 12.,\n",
      "       13., 14., 15., 16., 17., 18., 19.]), array([ 2447,  3537,  3834,  9064,   907,   691,   734,  7018,  1759,\n",
      "        1454,  3894,  3001,  2366,  2923,   616,   452, 22365,  1219,\n",
      "        1117,  4860], dtype=int64))\n",
      "Fine predict\n",
      "Fine update\n",
      "Fine controllo di convergenza\n",
      "Iter: 39 Inerzia: 5134902.359436496\n",
      "Inizio iterazione  40\n",
      "U [18.  1. 10. ... 16. 16.  3.] U_old [18.  1. 10. ... 16. 16.  3.] N. Changes: 47\n",
      "(array([ 0.,  1.,  2.,  3.,  4.,  5.,  6.,  7.,  8.,  9., 10., 11., 12.,\n",
      "       13., 14., 15., 16., 17., 18., 19.]), array([ 2446,  3556,  3831,  9072,   907,   691,   734,  7017,  1759,\n",
      "        1453,  3894,  2983,  2366,  2922,   616,   452, 22363,  1219,\n",
      "        1117,  4860], dtype=int64))\n",
      "Fine predict\n",
      "Fine update\n",
      "Fine controllo di convergenza\n",
      "Iter: 40 Inerzia: 5134904.822598691\n",
      "Inizio iterazione  41\n",
      "U [18.  1. 10. ... 16. 16.  3.] U_old [18.  1. 10. ... 16. 16.  3.] N. Changes: 36\n",
      "(array([ 0.,  1.,  2.,  3.,  4.,  5.,  6.,  7.,  8.,  9., 10., 11., 12.,\n",
      "       13., 14., 15., 16., 17., 18., 19.]), array([ 2446,  3577,  3831,  9066,   907,   691,   734,  7017,  1759,\n",
      "        1453,  3895,  2974,  2365,  2922,   615,   452, 22358,  1219,\n",
      "        1117,  4860], dtype=int64))\n",
      "Fine predict\n",
      "Fine update\n",
      "Fine controllo di convergenza\n",
      "Iter: 41 Inerzia: 5134905.919269094\n",
      "Inizio iterazione  42\n",
      "U [18.  1. 10. ... 16. 16.  3.] U_old [18.  1. 10. ... 16. 16.  3.] N. Changes: 42\n",
      "(array([ 0.,  1.,  2.,  3.,  4.,  5.,  6.,  7.,  8.,  9., 10., 11., 12.,\n",
      "       13., 14., 15., 16., 17., 18., 19.]), array([ 2445,  3607,  3831,  9065,   907,   691,   734,  7014,  1759,\n",
      "        1453,  3895,  2968,  2365,  2923,   615,   452, 22338,  1219,\n",
      "        1117,  4860], dtype=int64))\n",
      "Fine predict\n",
      "Fine update\n",
      "Fine controllo di convergenza\n",
      "Iter: 42 Inerzia: 5134907.29173558\n",
      "Inizio iterazione  43\n",
      "U [18.  1. 10. ... 16. 16.  3.] U_old [18.  1. 10. ... 16. 16.  3.] N. Changes: 24\n",
      "(array([ 0.,  1.,  2.,  3.,  4.,  5.,  6.,  7.,  8.,  9., 10., 11., 12.,\n",
      "       13., 14., 15., 16., 17., 18., 19.]), array([ 2445,  3621,  3831,  9065,   907,   691,   734,  7011,  1759,\n",
      "        1453,  3895,  2967,  2365,  2923,   615,   452, 22327,  1219,\n",
      "        1117,  4861], dtype=int64))\n",
      "Fine predict\n",
      "Fine update\n",
      "Fine controllo di convergenza\n",
      "Iter: 43 Inerzia: 5134909.346847155\n",
      "Inizio iterazione  44\n",
      "U [18.  1. 10. ... 16. 16.  3.] U_old [18.  1. 10. ... 16. 16.  3.] N. Changes: 12\n",
      "(array([ 0.,  1.,  2.,  3.,  4.,  5.,  6.,  7.,  8.,  9., 10., 11., 12.,\n",
      "       13., 14., 15., 16., 17., 18., 19.]), array([ 2445,  3630,  3831,  9065,   907,   691,   734,  7011,  1759,\n",
      "        1453,  3895,  2966,  2365,  2923,   615,   452, 22319,  1219,\n",
      "        1117,  4861], dtype=int64))\n",
      "Fine predict\n",
      "Fine update\n",
      "Fine controllo di convergenza\n",
      "Iter: 44 Inerzia: 5134910.493292272\n",
      "Inizio iterazione  45\n",
      "U [18.  1. 10. ... 16. 16.  3.] U_old [18.  1. 10. ... 16. 16.  3.] N. Changes: 12\n",
      "(array([ 0.,  1.,  2.,  3.,  4.,  5.,  6.,  7.,  8.,  9., 10., 11., 12.,\n",
      "       13., 14., 15., 16., 17., 18., 19.]), array([ 2445,  3640,  3831,  9064,   907,   691,   734,  7010,  1759,\n",
      "        1453,  3895,  2965,  2365,  2924,   615,   452, 22311,  1219,\n",
      "        1117,  4861], dtype=int64))\n",
      "Fine predict\n",
      "Fine update\n",
      "Fine controllo di convergenza\n",
      "Iter: 45 Inerzia: 5134911.218717651\n",
      "Inizio iterazione  46\n",
      "U [18.  1. 10. ... 16. 16.  3.] U_old [18.  1. 10. ... 16. 16.  3.] N. Changes: 12\n",
      "(array([ 0.,  1.,  2.,  3.,  4.,  5.,  6.,  7.,  8.,  9., 10., 11., 12.,\n",
      "       13., 14., 15., 16., 17., 18., 19.]), array([ 2445,  3649,  3830,  9062,   907,   691,   734,  7007,  1759,\n",
      "        1453,  3895,  2965,  2365,  2924,   615,   452, 22308,  1219,\n",
      "        1117,  4861], dtype=int64))\n",
      "Fine predict\n",
      "Fine update\n",
      "Fine controllo di convergenza\n",
      "Iter: 46 Inerzia: 5134912.4605835\n",
      "Inizio iterazione  47\n",
      "U [18.  1. 10. ... 16. 16.  3.] U_old [18.  1. 10. ... 16. 16.  3.] N. Changes: 11\n",
      "(array([ 0.,  1.,  2.,  3.,  4.,  5.,  6.,  7.,  8.,  9., 10., 11., 12.,\n",
      "       13., 14., 15., 16., 17., 18., 19.]), array([ 2445,  3659,  3830,  9063,   907,   691,   734,  7005,  1759,\n",
      "        1453,  3895,  2965,  2365,  2924,   615,   452, 22299,  1219,\n",
      "        1117,  4861], dtype=int64))\n",
      "Fine predict\n",
      "Fine update\n",
      "Fine controllo di convergenza\n",
      "Iter: 47 Inerzia: 5134912.683871495\n",
      "Inizio iterazione  48\n",
      "U [18.  1. 10. ... 16. 16.  3.] U_old [18.  1. 10. ... 16. 16.  3.] N. Changes: 13\n",
      "(array([ 0.,  1.,  2.,  3.,  4.,  5.,  6.,  7.,  8.,  9., 10., 11., 12.,\n",
      "       13., 14., 15., 16., 17., 18., 19.]), array([ 2445,  3670,  3831,  9063,   907,   691,   734,  7004,  1759,\n",
      "        1453,  3895,  2965,  2365,  2924,   615,   452, 22289,  1219,\n",
      "        1117,  4860], dtype=int64))\n",
      "Fine predict\n",
      "Fine update\n",
      "Fine controllo di convergenza\n",
      "Iter: 48 Inerzia: 5134913.269790909\n",
      "Inizio iterazione  49\n",
      "U [18.  1. 10. ... 16. 16.  3.] U_old [18.  1. 10. ... 16. 16.  3.] N. Changes: 7\n",
      "(array([ 0.,  1.,  2.,  3.,  4.,  5.,  6.,  7.,  8.,  9., 10., 11., 12.,\n",
      "       13., 14., 15., 16., 17., 18., 19.]), array([ 2445,  3677,  3831,  9062,   907,   691,   734,  7004,  1759,\n",
      "        1453,  3895,  2964,  2365,  2924,   615,   452, 22284,  1219,\n",
      "        1117,  4860], dtype=int64))\n",
      "Fine predict\n",
      "Fine update\n",
      "Fine controllo di convergenza\n",
      "Iter: 49 Inerzia: 5134913.853280268\n",
      "Inizio iterazione  50\n",
      "U [18.  1. 10. ... 16. 16.  3.] U_old [18.  1. 10. ... 16. 16.  3.] N. Changes: 6\n",
      "(array([ 0.,  1.,  2.,  3.,  4.,  5.,  6.,  7.,  8.,  9., 10., 11., 12.,\n",
      "       13., 14., 15., 16., 17., 18., 19.]), array([ 2445,  3682,  3831,  9061,   907,   691,   734,  7002,  1759,\n",
      "        1453,  3895,  2964,  2365,  2924,   615,   452, 22282,  1219,\n",
      "        1117,  4860], dtype=int64))\n",
      "Fine predict\n"
     ]
    },
    {
     "name": "stdout",
     "output_type": "stream",
     "text": [
      "Fine update\n",
      "Fine controllo di convergenza\n",
      "Iter: 50 Inerzia: 5134914.290220829\n",
      "Inizio iterazione  51\n",
      "U [18.  1. 10. ... 16. 16.  3.] U_old [18.  1. 10. ... 16. 16.  3.] N. Changes: 5\n",
      "(array([ 0.,  1.,  2.,  3.,  4.,  5.,  6.,  7.,  8.,  9., 10., 11., 12.,\n",
      "       13., 14., 15., 16., 17., 18., 19.]), array([ 2445,  3687,  3831,  9061,   907,   691,   734,  7002,  1759,\n",
      "        1453,  3895,  2964,  2365,  2924,   615,   452, 22277,  1219,\n",
      "        1117,  4860], dtype=int64))\n",
      "Fine predict\n",
      "Fine update\n",
      "Fine controllo di convergenza\n",
      "Iter: 51 Inerzia: 5134914.82601861\n",
      "Inizio iterazione  52\n",
      "U [18.  1. 10. ... 16. 16.  3.] U_old [18.  1. 10. ... 16. 16.  3.] N. Changes: 2\n",
      "(array([ 0.,  1.,  2.,  3.,  4.,  5.,  6.,  7.,  8.,  9., 10., 11., 12.,\n",
      "       13., 14., 15., 16., 17., 18., 19.]), array([ 2445,  3689,  3831,  9061,   907,   691,   734,  7002,  1759,\n",
      "        1453,  3895,  2964,  2365,  2924,   615,   452, 22275,  1219,\n",
      "        1117,  4860], dtype=int64))\n",
      "Fine predict\n",
      "Fine update\n",
      "Fine controllo di convergenza\n",
      "Iter: 52 Inerzia: 5134914.64308992\n",
      "Inizio iterazione  53\n",
      "U [18.  1. 10. ... 16. 16.  3.] U_old [18.  1. 10. ... 16. 16.  3.] N. Changes: 0\n",
      "(array([ 0.,  1.,  2.,  3.,  4.,  5.,  6.,  7.,  8.,  9., 10., 11., 12.,\n",
      "       13., 14., 15., 16., 17., 18., 19.]), array([ 2445,  3689,  3831,  9061,   907,   691,   734,  7002,  1759,\n",
      "        1453,  3895,  2964,  2365,  2924,   615,   452, 22275,  1219,\n",
      "        1117,  4860], dtype=int64))\n",
      "Fine predict\n",
      "Fine update\n",
      "Converge\n",
      "[18.  1. 10. ... 16. 16.  3.] [18.  1. 10. ... 16. 16.  3.]\n"
     ]
    }
   ],
   "source": [
    "our_inertia = model.fit(X*100)"
   ]
  },
  {
   "cell_type": "code",
   "execution_count": 91,
   "metadata": {},
   "outputs": [
    {
     "name": "stdout",
     "output_type": "stream",
     "text": [
      "Wall time: 28.2 s\n"
     ]
    }
   ],
   "source": [
    "%%time\n",
    "pred, our_inertia = model.predict(X*100, True)"
   ]
  },
  {
   "cell_type": "code",
   "execution_count": 92,
   "metadata": {},
   "outputs": [
    {
     "data": {
      "text/plain": [
       "(array([ 0.,  1.,  2.,  3.,  4.,  5.,  6.,  7.,  8.,  9., 10., 11., 12.,\n",
       "        13., 14., 15., 16., 17., 18., 19.]),\n",
       " array([ 2445,  3689,  3831,  9061,   907,   691,   734,  7002,  1759,\n",
       "         1453,  3895,  2964,  2365,  2924,   615,   452, 22275,  1219,\n",
       "         1117,  4860], dtype=int64))"
      ]
     },
     "execution_count": 92,
     "metadata": {},
     "output_type": "execute_result"
    }
   ],
   "source": [
    "np.unique(pred, return_counts=True)"
   ]
  },
  {
   "cell_type": "markdown",
   "metadata": {},
   "source": [
    "* creiamo i cluster\n",
    "* groupby sui cluster\n",
    "* join sui text\n",
    "* countVect per ogni cluster\n",
    "* stampiamo la wordcloud e poi faccia le considerazioni\n"
   ]
  },
  {
   "cell_type": "code",
   "execution_count": 93,
   "metadata": {},
   "outputs": [],
   "source": [
    "#df['Cluster'] = model.predict(X)\n",
    "df['Cluster'] = pred"
   ]
  },
  {
   "cell_type": "code",
   "execution_count": 94,
   "metadata": {},
   "outputs": [
    {
     "data": {
      "text/html": [
       "<div>\n",
       "<style scoped>\n",
       "    .dataframe tbody tr th:only-of-type {\n",
       "        vertical-align: middle;\n",
       "    }\n",
       "\n",
       "    .dataframe tbody tr th {\n",
       "        vertical-align: top;\n",
       "    }\n",
       "\n",
       "    .dataframe thead th {\n",
       "        text-align: right;\n",
       "    }\n",
       "</style>\n",
       "<table border=\"1\" class=\"dataframe\">\n",
       "  <thead>\n",
       "    <tr style=\"text-align: right;\">\n",
       "      <th></th>\n",
       "      <th>ProductId</th>\n",
       "      <th>Text</th>\n",
       "      <th>Cluster</th>\n",
       "    </tr>\n",
       "  </thead>\n",
       "  <tbody>\n",
       "    <tr>\n",
       "      <th>0</th>\n",
       "      <td>0006641040</td>\n",
       "      <td>days person say chicken soup probably go follo...</td>\n",
       "      <td>18.0</td>\n",
       "    </tr>\n",
       "    <tr>\n",
       "      <th>1</th>\n",
       "      <td>141278509X</td>\n",
       "      <td>product archer farm best drink mix ever mix fl...</td>\n",
       "      <td>1.0</td>\n",
       "    </tr>\n",
       "    <tr>\n",
       "      <th>2</th>\n",
       "      <td>2734888454</td>\n",
       "      <td>dog love chicken product china wont buy anymor...</td>\n",
       "      <td>10.0</td>\n",
       "    </tr>\n",
       "    <tr>\n",
       "      <th>3</th>\n",
       "      <td>2841233731</td>\n",
       "      <td>book easy read ingredients available store rec...</td>\n",
       "      <td>11.0</td>\n",
       "    </tr>\n",
       "    <tr>\n",
       "      <th>4</th>\n",
       "      <td>7310172001</td>\n",
       "      <td>product health snack pup make beef liver puppy...</td>\n",
       "      <td>10.0</td>\n",
       "    </tr>\n",
       "    <tr>\n",
       "      <th>...</th>\n",
       "      <td>...</td>\n",
       "      <td>...</td>\n",
       "      <td>...</td>\n",
       "    </tr>\n",
       "    <tr>\n",
       "      <th>74253</th>\n",
       "      <td>B009UOFTUI</td>\n",
       "      <td>coffee supposedly premium taste watery thin go...</td>\n",
       "      <td>1.0</td>\n",
       "    </tr>\n",
       "    <tr>\n",
       "      <th>74254</th>\n",
       "      <td>B009UOFU20</td>\n",
       "      <td>coffee supposedly premium taste watery thin go...</td>\n",
       "      <td>1.0</td>\n",
       "    </tr>\n",
       "    <tr>\n",
       "      <th>74255</th>\n",
       "      <td>B009UUS05I</td>\n",
       "      <td>basket perfect sympathy gift try express much ...</td>\n",
       "      <td>16.0</td>\n",
       "    </tr>\n",
       "    <tr>\n",
       "      <th>74256</th>\n",
       "      <td>B009WSNWC4</td>\n",
       "      <td>purchase product local store ny kid love quick...</td>\n",
       "      <td>16.0</td>\n",
       "    </tr>\n",
       "    <tr>\n",
       "      <th>74257</th>\n",
       "      <td>B009WVB40S</td>\n",
       "      <td>purchase send son away college deliver right d...</td>\n",
       "      <td>3.0</td>\n",
       "    </tr>\n",
       "  </tbody>\n",
       "</table>\n",
       "<p>74258 rows × 3 columns</p>\n",
       "</div>"
      ],
      "text/plain": [
       "        ProductId                                               Text  Cluster\n",
       "0      0006641040  days person say chicken soup probably go follo...     18.0\n",
       "1      141278509X  product archer farm best drink mix ever mix fl...      1.0\n",
       "2      2734888454  dog love chicken product china wont buy anymor...     10.0\n",
       "3      2841233731  book easy read ingredients available store rec...     11.0\n",
       "4      7310172001  product health snack pup make beef liver puppy...     10.0\n",
       "...           ...                                                ...      ...\n",
       "74253  B009UOFTUI  coffee supposedly premium taste watery thin go...      1.0\n",
       "74254  B009UOFU20  coffee supposedly premium taste watery thin go...      1.0\n",
       "74255  B009UUS05I  basket perfect sympathy gift try express much ...     16.0\n",
       "74256  B009WSNWC4  purchase product local store ny kid love quick...     16.0\n",
       "74257  B009WVB40S  purchase send son away college deliver right d...      3.0\n",
       "\n",
       "[74258 rows x 3 columns]"
      ]
     },
     "execution_count": 94,
     "metadata": {},
     "output_type": "execute_result"
    }
   ],
   "source": [
    "df"
   ]
  },
  {
   "cell_type": "code",
   "execution_count": null,
   "metadata": {},
   "outputs": [],
   "source": [
    "product_cluster = df.set_index('ProductId')['Cluster']"
   ]
  },
  {
   "cell_type": "code",
   "execution_count": 95,
   "metadata": {},
   "outputs": [],
   "source": [
    "reviews = pd.read_csv('./data/Reviews.csv')"
   ]
  },
  {
   "cell_type": "code",
   "execution_count": 106,
   "metadata": {},
   "outputs": [],
   "source": [
    "rev_complete = reviews.join(product_cluster, on='ProductId')"
   ]
  },
  {
   "cell_type": "code",
   "execution_count": 116,
   "metadata": {},
   "outputs": [],
   "source": [
    "df = pd.DataFrame(df)"
   ]
  },
  {
   "cell_type": "code",
   "execution_count": 119,
   "metadata": {},
   "outputs": [
    {
     "data": {
      "text/plain": [
       "Cluster\n",
       "0.0      2445\n",
       "1.0      3689\n",
       "2.0      3831\n",
       "3.0      9061\n",
       "4.0       907\n",
       "5.0       691\n",
       "6.0       734\n",
       "7.0      7002\n",
       "8.0      1759\n",
       "9.0      1453\n",
       "10.0     3895\n",
       "11.0     2964\n",
       "12.0     2365\n",
       "13.0     2924\n",
       "14.0      615\n",
       "15.0      452\n",
       "16.0    22275\n",
       "17.0     1219\n",
       "18.0     1117\n",
       "19.0     4860\n",
       "dtype: int64"
      ]
     },
     "execution_count": 119,
     "metadata": {},
     "output_type": "execute_result"
    }
   ],
   "source": [
    "# risposta alla 2.3.2\n",
    "df.groupby('Cluster').size()"
   ]
  },
  {
   "cell_type": "code",
   "execution_count": 127,
   "metadata": {},
   "outputs": [
    {
     "data": {
      "image/png": "[encoded data removed]",
      "text/plain": [
       "<Figure size 720x360 with 1 Axes>"
      ]
     },
     "metadata": {
      "needs_background": "light"
     },
     "output_type": "display_data"
    },
    {
     "data": {
      "image/png": "[encoded data removed]",
      "text/plain": [
       "<Figure size 720x360 with 1 Axes>"
      ]
     },
     "metadata": {
      "needs_background": "light"
     },
     "output_type": "display_data"
    },
    {
     "data": {
      "image/png": "[encoded data removed]",
      "text/plain": [
       "<Figure size 720x360 with 1 Axes>"
      ]
     },
     "metadata": {
      "needs_background": "light"
     },
     "output_type": "display_data"
    },
    {
     "data": {
      "image/png": "[encoded data removed]",
      "text/plain": [
       "<Figure size 720x360 with 1 Axes>"
      ]
     },
     "metadata": {
      "needs_background": "light"
     },
     "output_type": "display_data"
    },
    {
     "data": {
      "image/png": "[encoded data removed]",
      "text/plain": [
       "<Figure size 720x360 with 1 Axes>"
      ]
     },
     "metadata": {
      "needs_background": "light"
     },
     "output_type": "display_data"
    },
    {
     "data": {
      "image/png": "[encoded data removed]",
      "text/plain": [
       "<Figure size 720x360 with 1 Axes>"
      ]
     },
     "metadata": {
      "needs_background": "light"
     },
     "output_type": "display_data"
    },
    {
     "data": {
      "image/png": "[encoded data removed]",
      "text/plain": [
       "<Figure size 720x360 with 1 Axes>"
      ]
     },
     "metadata": {
      "needs_background": "light"
     },
     "output_type": "display_data"
    },
    {
     "data": {
      "image/png": "[encoded data removed]",
      "text/plain": [
       "<Figure size 720x360 with 1 Axes>"
      ]
     },
     "metadata": {
      "needs_background": "light"
     },
     "output_type": "display_data"
    },
    {
     "data": {
      "image/png": "[encoded data removed]",
      "text/plain": [
       "<Figure size 720x360 with 1 Axes>"
      ]
     },
     "metadata": {
      "needs_background": "light"
     },
     "output_type": "display_data"
    },
    {
     "data": {
      "image/png": "[encoded data removed]",
      "text/plain": [
       "<Figure size 720x360 with 1 Axes>"
      ]
     },
     "metadata": {
      "needs_background": "light"
     },
     "output_type": "display_data"
    },
    {
     "data": {
      "image/png": "[encoded data removed]",
      "text/plain": [
       "<Figure size 720x360 with 1 Axes>"
      ]
     },
     "metadata": {
      "needs_background": "light"
     },
     "output_type": "display_data"
    },
    {
     "data": {
      "image/png": "[encoded data removed]",
      "text/plain": [
       "<Figure size 720x360 with 1 Axes>"
      ]
     },
     "metadata": {
      "needs_background": "light"
     },
     "output_type": "display_data"
    },
    {
     "data": {
      "image/png": "[encoded data removed]",
      "text/plain": [
       "<Figure size 720x360 with 1 Axes>"
      ]
     },
     "metadata": {
      "needs_background": "light"
     },
     "output_type": "display_data"
    },
    {
     "data": {
      "image/png": "[encoded data removed]",
      "text/plain": [
       "<Figure size 720x360 with 1 Axes>"
      ]
     },
     "metadata": {
      "needs_background": "light"
     },
     "output_type": "display_data"
    },
    {
     "data": {
      "image/png": "[encoded data removed]",
      "text/plain": [
       "<Figure size 720x360 with 1 Axes>"
      ]
     },
     "metadata": {
      "needs_background": "light"
     },
     "output_type": "display_data"
    },
    {
     "data": {
      "image/png": "[encoded data removed]",
      "text/plain": [
       "<Figure size 720x360 with 1 Axes>"
      ]
     },
     "metadata": {
      "needs_background": "light"
     },
     "output_type": "display_data"
    },
    {
     "data": {
      "image/png": "[encoded data removed]",
      "text/plain": [
       "<Figure size 720x360 with 1 Axes>"
      ]
     },
     "metadata": {
      "needs_background": "light"
     },
     "output_type": "display_data"
    },
    {
     "data": {
      "image/png": "[encoded data removed]",
      "text/plain": [
       "<Figure size 720x360 with 1 Axes>"
      ]
     },
     "metadata": {
      "needs_background": "light"
     },
     "output_type": "display_data"
    },
    {
     "data": {
      "image/png": "[encoded data removed]",
      "text/plain": [
       "<Figure size 720x360 with 1 Axes>"
      ]
     },
     "metadata": {
      "needs_background": "light"
     },
     "output_type": "display_data"
    },
    {
     "data": {
      "image/png": "[encoded data removed]",
      "text/plain": [
       "<Figure size 720x360 with 1 Axes>"
      ]
     },
     "metadata": {
      "needs_background": "light"
     },
     "output_type": "display_data"
    }
   ],
   "source": [
    "# 2.3.3\n",
    "\n",
    "#score = rev_complete.groupby('Cluster', as_index = False)\n",
    "#sns.histplot(data=score, x='Score')\n",
    "\n",
    "for cluster in range(K):\n",
    "    fig = plt.figure(figsize=(10,5))\n",
    "    plt.hist(rev_complete[rev_complete.Cluster == cluster].Score)\n",
    "    plt.show()\n",
    "\n"
   ]
  },
  {
   "cell_type": "code",
   "execution_count": 129,
   "metadata": {},
   "outputs": [
    {
     "data": {
      "text/plain": [
       "Cluster\n",
       "0.0     10983\n",
       "1.0     30158\n",
       "2.0     32693\n",
       "3.0     24611\n",
       "4.0      6126\n",
       "5.0      3560\n",
       "6.0      8054\n",
       "7.0     33274\n",
       "8.0      8811\n",
       "9.0      7182\n",
       "10.0    21038\n",
       "11.0    22088\n",
       "12.0    12401\n",
       "13.0    16255\n",
       "14.0     4805\n",
       "15.0     3890\n",
       "16.0    46472\n",
       "17.0     7707\n",
       "18.0     5682\n",
       "19.0    24505\n",
       "Name: UserId, dtype: int64"
      ]
     },
     "execution_count": 129,
     "metadata": {},
     "output_type": "execute_result"
    }
   ],
   "source": [
    "# 2.3.4\n",
    "rev_complete.groupby('Cluster').UserId.nunique()"
   ]
  },
  {
   "cell_type": "code",
   "execution_count": null,
   "metadata": {},
   "outputs": [],
   "source": []
  }
 ],
 "metadata": {
  "kernelspec": {
   "display_name": "EnvTensorflow",
   "language": "python",
   "name": "envtensorflow"
  },
  "language_info": {
   "codemirror_mode": {
    "name": "ipython",
    "version": 3
   },
   "file_extension": ".py",
   "mimetype": "text/x-python",
   "name": "python",
   "nbconvert_exporter": "python",
   "pygments_lexer": "ipython3",
   "version": "3.7.7"
  }
 },
 "nbformat": 4,
 "nbformat_minor": 4
}
