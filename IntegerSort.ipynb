{
 "cells": [
  {
   "cell_type": "markdown",
   "metadata": {},
   "source": [
    "## Sort an array A of integer\n",
    "\n",
    "**integer_sort(A, n)** ->\n",
    "\n",
    "    Find the maximum and the minimum given an array A has complexity O(n)\n",
    "    s = min(A)\n",
    "    b = max(A)\n",
    "    \n",
    "    Allocate new array has time complexity O(1)\n",
    "    r = b - s\n",
    "    pos_arr = new array(value=0, dim=r)\n",
    "    res = new array(dim = n)\n",
    "    idx = 0\n",
    "    \n",
    "    This chunk loops n times over the array A so its comlexity is O(n)\n",
    "    for i in 1..n:\n",
    "        p = A[i]\n",
    "        pos_arr[p - s] += 1\n",
    "        \n",
    "    This chunk loops r times over the array A so its comlexity is O(r) = O(b - s)\n",
    "    for i in 1..r:\n",
    "        if pos_arr[i] != 0\n",
    "            for j in 1..pos_arr[i]:\n",
    "                res[idx] = i + s\n",
    "                idx += 1\n",
    "    return res\n",
    "    \n",
    "### Time Complexity\n",
    "The algorithm complexity is $O(n + r) = O(n +b - s)$"
   ]
  }
 ],
 "metadata": {
  "kernelspec": {
   "display_name": "Python 3",
   "language": "python",
   "name": "python3"
  },
  "language_info": {
   "codemirror_mode": {
    "name": "ipython",
    "version": 3
   },
   "file_extension": ".py",
   "mimetype": "text/x-python",
   "name": "python",
   "nbconvert_exporter": "python",
   "pygments_lexer": "ipython3",
   "version": "3.7.7"
  }
 },
 "nbformat": 4,
 "nbformat_minor": 4
}
